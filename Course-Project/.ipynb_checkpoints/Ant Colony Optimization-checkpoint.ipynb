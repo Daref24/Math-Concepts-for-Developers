{
 "cells": [
  {
   "cell_type": "code",
   "execution_count": null,
   "id": "af9c579e",
   "metadata": {},
   "outputs": [],
   "source": [
    "import numpy as np\n",
    "import matplotlib.pyplot as plt"
   ]
  },
  {
   "cell_type": "markdown",
   "id": "9e0808e4",
   "metadata": {},
   "source": [
    "# Ant Colony Optimization\n",
    "\n",
    "\n",
    "## Introcudtion to Swarm Intelligence\n",
    "\n",
    "   Swarm intelligence is an artificial or natural intelligence technique. It is based on studying collective behavior in decentralized and self-organized systems. It simulates the social structures and interactions of the swarm rather than the structure of an individual in traditional artificial intelligence. The individuals can be regarded as agents with simple and single abilities. Some of them have the ability to evolve themselves when dealing with certain problems to make better compatibility\n",
    "   \n",
    "   There are various intelligence examples in nature such as Ant colonies, Bee beehives, Fish schooling, Bird flocking, Bacterial growth, and microbial intelligence. Swarm intelligence has many biological advantages. For example, birds steal information using up to a fifth less energy than those that fly solo. In addition, Swarm intelligence is modeled for the purpose of understanding microscopic (global) transformations. Furthermore, it allows getting ideas for artificial systems the similar proprieties.\n",
    "   \n",
    "  Swarm intelligence system usually consists of a group of simple individuals autonomously controlled by a plain set of rules and local interactions. These individuals are not necessarily unwise, but are relatively simple compared to the global intelligence achieved through the system. Some intelligent behaviors never observed in a single individual will soon emerge when several individuals begin cooperate or compete. The swarm can complete the tasks that a complex individual can do while having high robustness and flexibility and low cost. Swarm intelligence takes the full advantage of the swarm without the need of centralized control and global model, and provides a great solution for large-scale sophisticated problems.\n",
    "    "
   ]
  },
  {
   "cell_type": "markdown",
   "id": "6d49f623",
   "metadata": {},
   "source": [
    "## Intcoduction to Ant Colony Optimization\n",
    "\n",
    "Ant Colony Optimization (ACO) technique is purely inspired from the foraging behaviour of ant colonies, first introduced by Marco Dorigo in the 1990s. Ants are insects that prefer community survival and sustaining rather than as individual species. They communicate with each other using sound, touch and pheromone. Pheromones are organic chemical compounds secreted by the ants that trigger a social response in members of same species. These are chemicals capable of acting like hormones outside the body of the secreting individual, to impact the behaviour of the receiving individuals. Since most ants live on the ground, they use the soil surface to leave pheromone trails that may be followed (smelled) by other ants. To get the food, ants use the shortest path available from the food source to the colony. Now ants going for the food secret the pheromone and other ants follow this pheromone to follow the shortest route. \n",
    "\n",
    "Since more ants use the shortest route so the concentration of the pheromone increase and the rate of evaporation of pheromone to other paths will be decreased. the more the ants go on a way, the more alluring the way becomes for back to back ants. Moreover, an ant utilizing a short course to a sustenance source will come back to the home sooner and, consequently, stamp its way twice, before the landing of different ants. This straight forwardly impacts the choice likelihood for the following insect leaving the home to search for food. After some time, as more ants are fit to finish the shorter course. Hence on shorter ways pheromone gathers speedier and the more extended ways' pheromones decrease.\n",
    "\n",
    "Ant colonies have a built-in optimization capability: by the use of probabilistic rules based on local information they\n",
    "can find the shortest path between two points in their environment.  It is possible to design artificial ants that, by moving on a graph modeling the double bridge, find the shortest path between the two nodes corresponding to the nest and to the food source.\n",
    "\n",
    "In computer science and operations research, the ant colony optimization algorithm is a probabilistic technique for solving computational problems which can be reduced to finding good paths through graphs. Artificial ants stand for multi-agent methods inspired by the behavior of real ants. The pheromone-based communication of biological ants is often the predominant paradigm used.\n",
    "\n"
   ]
  },
  {
   "cell_type": "markdown",
   "id": "7658c1c0",
   "metadata": {},
   "source": [
    "\n",
    "## Math concepts used in Ant Colony Optimization\n",
    "\n",
    "\n",
    "### 1. Graphs\n",
    "\n",
    "A graph is a structure amounting to a set of objects in which some pairs of the objects are in some sense \"related\". The objects are represented by abstractions called vertices (also called nodes or points) and each of the related pairs of vertices is called an edge (also called link or line).\n",
    "\n",
    "A graph is a pair $G = (V, E)$, where $V$ is a set whose elements are called vertices (singular: vertex), and $E$ is a set of unordered pairs\n",
    "${\\displaystyle \\{v_{1},v_{2}\\}}$ of vertices, whose elements are called edges (sometimes links or lines).\n",
    "\n",
    "There are different types of graphs, including, but not limited to:\n",
    "* Undirected Graphs: A graph in which edges have no direction\n",
    "* Directed Graphs: A graph in which edges have a direction\n",
    "* Weighted Graphs: A graph in which edges have weights or costs associated with them.\n",
    "* Unweighted Graphs: A graph in which edges have no weights or costs associated with them.\n",
    "* Trees: A connected graph with no cycles.\n",
    "\n",
    "A graph can be represented using either an Adjecency Matrix or an Adjecency List.\n",
    "* An adjacency matrix is a way of representing a graph as a matrix of boolean (0’s and 1’s).\n",
    "![adjacency matrix](images/matrix.jpg)\n",
    "* An array of Lists is used to store edges between two vertices. The size of array is equal to the number of vertices (i.e, n). An adjacency list is a way of representing a graph where each vertex (node) has a list of adjacent vertices. This list shows which vertices are directly connected to each vertex via edges.\n",
    "![adjacency_list](images/list.png)\n",
    "\n",
    "\n",
    "Graphs play a crucial role in the context of Ant Colony Optimization (ACO). ACO algorithms operate on weighted graphs. The ant colony and food source act as vertices, while the paths represent the edges. Pheromone values associated with the edges serve as weights. \n",
    "\n",
    "### 2. Probability, statistics and pheromone calculations in Ant Colony Optimization\n",
    "\n",
    "ACO algorithms are probabilistic in nature. They rely on probabilities to guide ants’ decision-making during their search for optimal solutions. Ants probabilistically choose paths based on the concentration of pheromone trails left by other ants. The more pheromone a trail has, the higher chance it has to be taken by the ant. ACO balances between exploring new paths and exploiting known good paths. The use of probabilities in choosing paths ensures a mixture of both strategies. Statistical measures like mean and variance of path lengths can help monitor this balance and adjust parameters accordingly.\n",
    "\n",
    "An ant will move from node $i$ to node $j$ with probability:\n",
    "$$ p_{i,j}^k =  \\frac{(\\tau_{i,j}^\\alpha)(\\eta_{i,j}^\\alpha)}{\\sum_{l\\in N_i^n}(\\tau_{i,l}^\\alpha)(\\eta_{i,l}^\\alpha)} $$\n",
    "\n",
    "Where:\n",
    "* $p_{i,j}^k$ is the probability that that ant $k$ will move from node $𝑖$ to node $j$\n",
    "* $\\tau_{i,j}$ is the amount of pheromone on edge $i, j$\n",
    "* $\\eta_{i,j}$ is a heuristic value, indicating the desirability of the edge based on some predefined criteria related to the problem being solved. $i,j$\n",
    "* $\\alpha$ and $\\beta$ are parameters that control the relative importance of pheromone versus heuristic value.\n",
    "* $ N_i^k $ is the set of nodes that ant $k$ can move to from node $i$\n",
    "\n",
    "The probabilistic values are stored in a probabilistic matrix $p_{i,j}^{(n)}$, while the pheromone values are stored in a pheromone matrix $\\tau_{i,j}^{(n)}$\n",
    "\n",
    "At run-time, ACO algorithms try to update the pheromone values in such a way that the probability to generate high-quality solutions increases over time. There are two main phases of pheromone updates - pheromone evaporation and pheromone deposition.\n",
    "\n",
    "\n",
    "#### Pheromone Evaporation\n",
    "Pheromone evaporation is applied to all edges in the graph to simulate it's natural evaporation over time. After all the ants have constructed their tours, the pheromone trails are updated. This is done by first lowering the pheromone value on all arcs by a constant factor, and then adding pheromone on the arcs the ants have crossed in their tours. Pheromone evaporation is implemented by The amount of pheromone on each edge is updated according to the equation:\n",
    "\n",
    "$$ \\tau_{i,j} \\leftarrow(1-\\rho)\\tau_{i,j} \\;,\\; \\forall(i,j)\\in L$$\n",
    "\n",
    "Where:\n",
    "* $\\tau_{i,j}$ is the amount of pheromone on a given edge $i,j$\n",
    "* $\\rho$ is the rate of pheromone evaporation $\\left(0<\\rho<1\\right)$\n",
    "\n",
    "If an arc is not chosen by the ants, its associated pheromone value decreases exponentially in the number of iterations.\n",
    "\n",
    "\n",
    "#### Pheromone Deposition\n",
    "After evaporation, ants deposit new pheromones on the edges they have used in their solutions. The amount of pheromone deposited typically depends on the quality of the solution. Better solutions deposit more pheromone.\n",
    "\n",
    "\n",
    "$$ \\tau_{i,j} \\leftarrow\\tau_{i,j} + \\sum_{k=1}^m\\Delta\\tau_{i,j}\\;,\\; \\forall(i,j)\\in L$$\n",
    "\n",
    "$\\Delta\\tau_{i,j}$ is the amount of pheromone deposited. $\\Delta\\tau_{i,j}$ =  $1/L_k$ if ant $n$ travels edge $i,j$, where $L_k$ is the length of the tour, taken by the ant, or $0$ if it doesn't travel that edge\n",
    "\n"
   ]
  },
  {
   "cell_type": "markdown",
   "id": "5135dc6d",
   "metadata": {},
   "source": [
    "## Algorithm overview"
   ]
  }
 ],
 "metadata": {
  "kernelspec": {
   "display_name": "Python 3 (ipykernel)",
   "language": "python",
   "name": "python3"
  },
  "language_info": {
   "codemirror_mode": {
    "name": "ipython",
    "version": 3
   },
   "file_extension": ".py",
   "mimetype": "text/x-python",
   "name": "python",
   "nbconvert_exporter": "python",
   "pygments_lexer": "ipython3",
   "version": "3.11.7"
  }
 },
 "nbformat": 4,
 "nbformat_minor": 5
}
